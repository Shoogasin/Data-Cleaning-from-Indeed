{
 "cells": [
  {
   "cell_type": "code",
   "execution_count": 72,
   "id": "b2013f79-3885-4062-b9aa-627b2e0566cc",
   "metadata": {},
   "outputs": [],
   "source": [
    "#import libraries\n",
    "\n",
    "import pandas as pd\n",
    "import numpy as np\n",
    "import re"
   ]
  },
  {
   "cell_type": "code",
   "execution_count": 73,
   "id": "4ad9d164-bab6-4124-942d-1e2dc9171d30",
   "metadata": {},
   "outputs": [],
   "source": [
    "df = pd.read_csv(r\"C:\\Users\\PC\\Downloads\\indeed_job_data.csv\")"
   ]
  },
  {
   "cell_type": "code",
   "execution_count": 74,
   "id": "0a4b5786-9a0f-4c99-8b8d-ab40e1e11367",
   "metadata": {},
   "outputs": [
    {
     "data": {
      "text/html": [
       "<div>\n",
       "<style scoped>\n",
       "    .dataframe tbody tr th:only-of-type {\n",
       "        vertical-align: middle;\n",
       "    }\n",
       "\n",
       "    .dataframe tbody tr th {\n",
       "        vertical-align: top;\n",
       "    }\n",
       "\n",
       "    .dataframe thead th {\n",
       "        text-align: right;\n",
       "    }\n",
       "</style>\n",
       "<table border=\"1\" class=\"dataframe\">\n",
       "  <thead>\n",
       "    <tr style=\"text-align: right;\">\n",
       "      <th></th>\n",
       "      <th>Title</th>\n",
       "      <th>Company</th>\n",
       "      <th>Location</th>\n",
       "      <th>Salary</th>\n",
       "      <th>Job Type</th>\n",
       "      <th>Date Posted</th>\n",
       "      <th>Summary</th>\n",
       "    </tr>\n",
       "  </thead>\n",
       "  <tbody>\n",
       "    <tr>\n",
       "      <th>0</th>\n",
       "      <td>PO, Research &amp; Data Analyst</td>\n",
       "      <td>The Elevation Church</td>\n",
       "      <td>Nigeria</td>\n",
       "      <td>NaN</td>\n",
       "      <td>Full-time</td>\n",
       "      <td>PostedJust posted</td>\n",
       "      <td>Train volunteers on the use of M&amp;E frameworks ...</td>\n",
       "    </tr>\n",
       "    <tr>\n",
       "      <th>1</th>\n",
       "      <td>QA Tester - Intern</td>\n",
       "      <td>mDoc Healthcare</td>\n",
       "      <td>Lagos</td>\n",
       "      <td>NaN</td>\n",
       "      <td>NaN</td>\n",
       "      <td>EmployerActive 6 days ago</td>\n",
       "      <td>Advanced knowledge of data security and encryp...</td>\n",
       "    </tr>\n",
       "    <tr>\n",
       "      <th>2</th>\n",
       "      <td>Data Analyst - Healthcare</td>\n",
       "      <td>eMedicStore</td>\n",
       "      <td>Lagos</td>\n",
       "      <td>NaN</td>\n",
       "      <td>NaN</td>\n",
       "      <td>EmployerActive 5 days ago</td>\n",
       "      <td>Implement new data analysis methodologies and ...</td>\n",
       "    </tr>\n",
       "    <tr>\n",
       "      <th>3</th>\n",
       "      <td>HR Analyst</td>\n",
       "      <td>Jobrole Consulting Limited</td>\n",
       "      <td>Ikeja</td>\n",
       "      <td>₦150,000 - ₦200,000 a month</td>\n",
       "      <td>Full-time</td>\n",
       "      <td>PostedPosted 2 days ago</td>\n",
       "      <td>Analyze and interpret data to generate actiona...</td>\n",
       "    </tr>\n",
       "    <tr>\n",
       "      <th>4</th>\n",
       "      <td>Business Intelligence Analyst</td>\n",
       "      <td>TSL Metroline Limited</td>\n",
       "      <td>Lagos</td>\n",
       "      <td>NaN</td>\n",
       "      <td>NaN</td>\n",
       "      <td>PostedPosted 1 day ago</td>\n",
       "      <td>Analyse business information/ data to identify...</td>\n",
       "    </tr>\n",
       "  </tbody>\n",
       "</table>\n",
       "</div>"
      ],
      "text/plain": [
       "                           Title                     Company Location  \\\n",
       "0    PO, Research & Data Analyst        The Elevation Church  Nigeria   \n",
       "1             QA Tester - Intern             mDoc Healthcare    Lagos   \n",
       "2      Data Analyst - Healthcare                 eMedicStore    Lagos   \n",
       "3                     HR Analyst  Jobrole Consulting Limited    Ikeja   \n",
       "4  Business Intelligence Analyst       TSL Metroline Limited    Lagos   \n",
       "\n",
       "                        Salary   Job Type                Date Posted  \\\n",
       "0                          NaN  Full-time          PostedJust posted   \n",
       "1                          NaN        NaN  EmployerActive 6 days ago   \n",
       "2                          NaN        NaN  EmployerActive 5 days ago   \n",
       "3  ₦150,000 - ₦200,000 a month  Full-time    PostedPosted 2 days ago   \n",
       "4                          NaN        NaN     PostedPosted 1 day ago   \n",
       "\n",
       "                                             Summary  \n",
       "0  Train volunteers on the use of M&E frameworks ...  \n",
       "1  Advanced knowledge of data security and encryp...  \n",
       "2  Implement new data analysis methodologies and ...  \n",
       "3  Analyze and interpret data to generate actiona...  \n",
       "4  Analyse business information/ data to identify...  "
      ]
     },
     "execution_count": 74,
     "metadata": {},
     "output_type": "execute_result"
    }
   ],
   "source": [
    "df.head()"
   ]
  },
  {
   "cell_type": "code",
   "execution_count": 75,
   "id": "e8717f3f-b4fa-4f9e-b7b6-a10ca4d0c32d",
   "metadata": {},
   "outputs": [
    {
     "name": "stdout",
     "output_type": "stream",
     "text": [
      "<class 'pandas.core.frame.DataFrame'>\n",
      "RangeIndex: 203 entries, 0 to 202\n",
      "Data columns (total 7 columns):\n",
      " #   Column       Non-Null Count  Dtype \n",
      "---  ------       --------------  ----- \n",
      " 0   Title        203 non-null    object\n",
      " 1   Company      200 non-null    object\n",
      " 2   Location     203 non-null    object\n",
      " 3   Salary       15 non-null     object\n",
      " 4   Job Type     101 non-null    object\n",
      " 5   Date Posted  203 non-null    object\n",
      " 6   Summary      203 non-null    object\n",
      "dtypes: object(7)\n",
      "memory usage: 11.2+ KB\n"
     ]
    }
   ],
   "source": [
    "# display information about our dataset\n",
    "\n",
    "df.info()"
   ]
  },
  {
   "cell_type": "code",
   "execution_count": 76,
   "id": "15d1db82-c34b-42d3-84d4-0a05491cea0c",
   "metadata": {},
   "outputs": [
    {
     "name": "stdout",
     "output_type": "stream",
     "text": [
      "Missing Values:\n",
      " Title            0\n",
      "Company          3\n",
      "Location         0\n",
      "Salary         188\n",
      "Job Type       102\n",
      "Date Posted      0\n",
      "Summary          0\n",
      "dtype: int64\n"
     ]
    }
   ],
   "source": [
    "#identify missing values\n",
    "\n",
    "missing_values = df.isnull().sum()\n",
    "print(\"Missing Values:\\n\", missing_values)"
   ]
  },
  {
   "cell_type": "code",
   "execution_count": 77,
   "id": "e4348be9-551a-47ad-9d1b-1ed87c31331a",
   "metadata": {},
   "outputs": [],
   "source": [
    "#Fill missing Company values with a default value\n",
    "\n",
    "df['Company'].fillna('Unknown', inplace=True)\n",
    "\n",
    "#Fill missing Job Type values with a default value\n",
    "\n",
    "df['Job Type'].fillna('Unknown', inplace=True)\n"
   ]
  },
  {
   "cell_type": "code",
   "execution_count": 78,
   "id": "9b0e54af-246b-4ee6-ba37-472d2906932b",
   "metadata": {},
   "outputs": [
    {
     "data": {
      "text/plain": [
       "array([nan, '₦150,000 - ₦200,000 a month', '₦100,000 - ₦150,000 a month',\n",
       "       '₦200,000 a month', '₦70,000 - ₦150,000 a month',\n",
       "       '₦90,000 - ₦130,000 a month', '₦300,000 - ₦350,000 a month',\n",
       "       '₦450,000 - ₦600,000 a month', '₦200,000 - ₦250,000 a month',\n",
       "       '₦220,000 a month', '₦60,000 - ₦80,000 a month'], dtype=object)"
      ]
     },
     "execution_count": 78,
     "metadata": {},
     "output_type": "execute_result"
    }
   ],
   "source": [
    "#This gives us an idea of the inconsistencies we'll need  for\n",
    "df[\"Salary\"].unique()"
   ]
  },
  {
   "cell_type": "code",
   "execution_count": 79,
   "id": "55591f8e-02fb-48bc-9616-4a1c220e0d98",
   "metadata": {},
   "outputs": [],
   "source": [
    "#Removing naira symbols, commas, whitespace and non-numeric characters\n",
    "df[\"Salary\"] = df[\"Salary\"].str.replace('[₦,a-zA-Z\\s]', '', regex=True)\n"
   ]
  },
  {
   "cell_type": "code",
   "execution_count": 80,
   "id": "274f99d4-959e-4b5e-b526-2690345953d9",
   "metadata": {},
   "outputs": [],
   "source": [
    "# Convert values in range to average\n",
    "def convert_to_average(salary):\n",
    "    if isinstance(salary, str) and '-' in salary:\n",
    "        # Extract lower and upper range values\n",
    "        lower, upper = map(int, salary.split('-'))\n",
    "        return (lower + upper) / 2\n",
    "    else:\n",
    "        return salary\n",
    "\n",
    "df['Salary'] = df['Salary'].apply(convert_to_average)"
   ]
  },
  {
   "cell_type": "code",
   "execution_count": 81,
   "id": "b0300d9d-bc0a-4a8f-b8c4-589ea9c3818b",
   "metadata": {},
   "outputs": [],
   "source": [
    "#Convert to numeric\n",
    "df[\"Salary\"] = df[\"Salary\"].astype(float)"
   ]
  },
  {
   "cell_type": "code",
   "execution_count": 82,
   "id": "6fe107f4-2cd6-4404-9b36-e0cdfbe65ad7",
   "metadata": {},
   "outputs": [],
   "source": [
    "#input missing salary values with the median of Salary\n",
    "df[\"Salary\"].fillna(df[\"Salary\"].median(), inplace=True)"
   ]
  },
  {
   "cell_type": "code",
   "execution_count": 83,
   "id": "0fe3c55f-f638-4bfa-85de-a7cc006c6703",
   "metadata": {},
   "outputs": [
    {
     "data": {
      "text/plain": [
       "array([175000., 125000., 200000., 110000., 325000., 525000., 225000.,\n",
       "       220000.,  70000.])"
      ]
     },
     "execution_count": 83,
     "metadata": {},
     "output_type": "execute_result"
    }
   ],
   "source": [
    "df[\"Salary\"].unique()"
   ]
  },
  {
   "cell_type": "code",
   "execution_count": 84,
   "id": "b1d1afd0-56e2-4982-bfcd-b19d051feb7f",
   "metadata": {},
   "outputs": [
    {
     "name": "stdout",
     "output_type": "stream",
     "text": [
      "Missing Values:\n",
      " Title          0\n",
      "Company        0\n",
      "Location       0\n",
      "Salary         0\n",
      "Job Type       0\n",
      "Date Posted    0\n",
      "Summary        0\n",
      "dtype: int64\n"
     ]
    }
   ],
   "source": [
    "#identify missing values\n",
    "\n",
    "missing_values = df.isnull().sum()\n",
    "print(\"Missing Values:\\n\", missing_values)"
   ]
  },
  {
   "cell_type": "code",
   "execution_count": 85,
   "id": "c6250964-448d-4688-9f3b-69741d97a760",
   "metadata": {},
   "outputs": [
    {
     "data": {
      "text/plain": [
       "array(['Full-time', 'Unknown', 'Temporary', 'Full-time +1', 'Contract',\n",
       "       'Permanent'], dtype=object)"
      ]
     },
     "execution_count": 85,
     "metadata": {},
     "output_type": "execute_result"
    }
   ],
   "source": [
    "# Job type column has things like 'Full Time' and 'Full time +1' treated the same way.\n",
    "\n",
    "df[\"Job Type\"].unique()"
   ]
  },
  {
   "cell_type": "code",
   "execution_count": 86,
   "id": "e360d6bf-9380-49a3-81f8-36763cb21ed1",
   "metadata": {},
   "outputs": [],
   "source": [
    "#Replace the inconsistent value in Job Type Column\n",
    "\n",
    "df[\"Job Type\"] = df[\"Job Type\"].replace({\"Full-time +1\": \"Full-time\"})"
   ]
  },
  {
   "cell_type": "code",
   "execution_count": 87,
   "id": "732dabda-5904-49ac-8bef-31e54152ccec",
   "metadata": {},
   "outputs": [],
   "source": [
    "#Date posted column has a messy format\n",
    "\n",
    "#Remove Unnecessary Words\n",
    "df[\"Date Posted\"] = df[\"Date Posted\"].str.replace(\"Posted\", '') #Remove 'Posted' phrase\n",
    "df[\"Date Posted\"] = df[\"Date Posted\"].str.replace(\"EmployerActive\", '') #Remove 'EmployerActive' phrase\n",
    "#Standardize 'Today'\n",
    "df[\"Date Posted\"] = df[\"Date Posted\"].str.replace(\"Today\", \"0 days ago\") #Replace \"Today\" with \"0 days ago\""
   ]
  },
  {
   "cell_type": "code",
   "execution_count": 89,
   "id": "771c1005-707d-4fd2-a93f-90562ef1d6f1",
   "metadata": {},
   "outputs": [],
   "source": [
    "#Define custom function to handle \"30+ days ago\"\n",
    "def convert_to_date(value):\n",
    "    if '+' in value:\n",
    "        return pd.Timestamp.now().normalize() - pd.Timedelta(days=30)\n",
    "    elif value.isdigit(): #Check if the value is a digit\n",
    "        return pd.Timestamp.now().normalize() - pd.Timedelta(days=int(value.split()[0]))\n",
    "    else:\n",
    "        #Return a default date for non-numeric values\n",
    "        return pd.Timestamp.now().normalize() - pd.Timedelta(days=1) #Example: 1 day ago\n",
    "\n",
    "df['Date Posted'] = df['Date Posted'].apply(convert_to_date)"
   ]
  },
  {
   "cell_type": "code",
   "execution_count": 92,
   "id": "48b270d8-f469-4fd8-a727-8cf59b8aaf20",
   "metadata": {},
   "outputs": [],
   "source": [
    "# Function to remove special characters and non-letter characters\n",
    "def clean_summary(summary):\n",
    "    # Define regular expression pattern to match non-letter characters\n",
    "    pattern = r'[^a-zA-Z\\s]'\n",
    "    # Replace non-letter characters with a space\n",
    "    cleaned_summary = re.sub(pattern, ' ', summary)\n",
    "    # Remove extra whitespaces\n",
    "    cleaned_summary = ' '.join(cleaned_summary.split())\n",
    "    return cleaned_summary\n",
    "\n",
    "# Apply the clean_summary function to the Summary column\n",
    "df['Summary'] = df['Summary'].apply(clean_summary)"
   ]
  },
  {
   "cell_type": "code",
   "execution_count": 93,
   "id": "e79d29d5-4646-4f5b-9331-4b9123e45c2e",
   "metadata": {},
   "outputs": [
    {
     "data": {
      "text/html": [
       "<div>\n",
       "<style scoped>\n",
       "    .dataframe tbody tr th:only-of-type {\n",
       "        vertical-align: middle;\n",
       "    }\n",
       "\n",
       "    .dataframe tbody tr th {\n",
       "        vertical-align: top;\n",
       "    }\n",
       "\n",
       "    .dataframe thead th {\n",
       "        text-align: right;\n",
       "    }\n",
       "</style>\n",
       "<table border=\"1\" class=\"dataframe\">\n",
       "  <thead>\n",
       "    <tr style=\"text-align: right;\">\n",
       "      <th></th>\n",
       "      <th>Title</th>\n",
       "      <th>Company</th>\n",
       "      <th>Location</th>\n",
       "      <th>Salary</th>\n",
       "      <th>Job Type</th>\n",
       "      <th>Date Posted</th>\n",
       "      <th>Summary</th>\n",
       "    </tr>\n",
       "  </thead>\n",
       "  <tbody>\n",
       "    <tr>\n",
       "      <th>0</th>\n",
       "      <td>PO, Research &amp; Data Analyst</td>\n",
       "      <td>The Elevation Church</td>\n",
       "      <td>Nigeria</td>\n",
       "      <td>175000.0</td>\n",
       "      <td>Full-time</td>\n",
       "      <td>2024-05-13</td>\n",
       "      <td>Train volunteers on the use of M E frameworks ...</td>\n",
       "    </tr>\n",
       "    <tr>\n",
       "      <th>1</th>\n",
       "      <td>QA Tester - Intern</td>\n",
       "      <td>mDoc Healthcare</td>\n",
       "      <td>Lagos</td>\n",
       "      <td>175000.0</td>\n",
       "      <td>Unknown</td>\n",
       "      <td>2024-05-13</td>\n",
       "      <td>Advanced knowledge of data security and encryp...</td>\n",
       "    </tr>\n",
       "    <tr>\n",
       "      <th>2</th>\n",
       "      <td>Data Analyst - Healthcare</td>\n",
       "      <td>eMedicStore</td>\n",
       "      <td>Lagos</td>\n",
       "      <td>175000.0</td>\n",
       "      <td>Unknown</td>\n",
       "      <td>2024-05-13</td>\n",
       "      <td>Implement new data analysis methodologies and ...</td>\n",
       "    </tr>\n",
       "    <tr>\n",
       "      <th>3</th>\n",
       "      <td>HR Analyst</td>\n",
       "      <td>Jobrole Consulting Limited</td>\n",
       "      <td>Ikeja</td>\n",
       "      <td>175000.0</td>\n",
       "      <td>Full-time</td>\n",
       "      <td>2024-05-13</td>\n",
       "      <td>Analyze and interpret data to generate actiona...</td>\n",
       "    </tr>\n",
       "    <tr>\n",
       "      <th>4</th>\n",
       "      <td>Business Intelligence Analyst</td>\n",
       "      <td>TSL Metroline Limited</td>\n",
       "      <td>Lagos</td>\n",
       "      <td>175000.0</td>\n",
       "      <td>Unknown</td>\n",
       "      <td>2024-05-13</td>\n",
       "      <td>Analyse business information data to identify ...</td>\n",
       "    </tr>\n",
       "  </tbody>\n",
       "</table>\n",
       "</div>"
      ],
      "text/plain": [
       "                           Title                     Company Location  \\\n",
       "0    PO, Research & Data Analyst        The Elevation Church  Nigeria   \n",
       "1             QA Tester - Intern             mDoc Healthcare    Lagos   \n",
       "2      Data Analyst - Healthcare                 eMedicStore    Lagos   \n",
       "3                     HR Analyst  Jobrole Consulting Limited    Ikeja   \n",
       "4  Business Intelligence Analyst       TSL Metroline Limited    Lagos   \n",
       "\n",
       "     Salary   Job Type Date Posted  \\\n",
       "0  175000.0  Full-time  2024-05-13   \n",
       "1  175000.0    Unknown  2024-05-13   \n",
       "2  175000.0    Unknown  2024-05-13   \n",
       "3  175000.0  Full-time  2024-05-13   \n",
       "4  175000.0    Unknown  2024-05-13   \n",
       "\n",
       "                                             Summary  \n",
       "0  Train volunteers on the use of M E frameworks ...  \n",
       "1  Advanced knowledge of data security and encryp...  \n",
       "2  Implement new data analysis methodologies and ...  \n",
       "3  Analyze and interpret data to generate actiona...  \n",
       "4  Analyse business information data to identify ...  "
      ]
     },
     "execution_count": 93,
     "metadata": {},
     "output_type": "execute_result"
    }
   ],
   "source": [
    "df.head()"
   ]
  },
  {
   "cell_type": "code",
   "execution_count": 94,
   "id": "19c0c20d-0ca1-41ed-886c-7c03e9f76dc9",
   "metadata": {},
   "outputs": [
    {
     "name": "stdout",
     "output_type": "stream",
     "text": [
      "<class 'pandas.core.frame.DataFrame'>\n",
      "RangeIndex: 203 entries, 0 to 202\n",
      "Data columns (total 7 columns):\n",
      " #   Column       Non-Null Count  Dtype         \n",
      "---  ------       --------------  -----         \n",
      " 0   Title        203 non-null    object        \n",
      " 1   Company      203 non-null    object        \n",
      " 2   Location     203 non-null    object        \n",
      " 3   Salary       203 non-null    float64       \n",
      " 4   Job Type     203 non-null    object        \n",
      " 5   Date Posted  203 non-null    datetime64[ns]\n",
      " 6   Summary      203 non-null    object        \n",
      "dtypes: datetime64[ns](1), float64(1), object(5)\n",
      "memory usage: 11.2+ KB\n"
     ]
    }
   ],
   "source": [
    "df.info()"
   ]
  },
  {
   "cell_type": "code",
   "execution_count": 95,
   "id": "e11b31d3-11c3-4d39-ad05-37b07fb8dc84",
   "metadata": {},
   "outputs": [],
   "source": [
    "#Save the cleaned Dataframe to a CSV File\n",
    "\n",
    "df.to_csv(\"cleaned_job_data.csv\", index=False)"
   ]
  },
  {
   "cell_type": "code",
   "execution_count": null,
   "id": "e29dc291-5ac9-4e42-ba7a-5b63d782d41a",
   "metadata": {},
   "outputs": [],
   "source": []
  }
 ],
 "metadata": {
  "kernelspec": {
   "display_name": "Python 3 (ipykernel)",
   "language": "python",
   "name": "python3"
  },
  "language_info": {
   "codemirror_mode": {
    "name": "ipython",
    "version": 3
   },
   "file_extension": ".py",
   "mimetype": "text/x-python",
   "name": "python",
   "nbconvert_exporter": "python",
   "pygments_lexer": "ipython3",
   "version": "3.11.7"
  }
 },
 "nbformat": 4,
 "nbformat_minor": 5
}
